{
 "cells": [
  {
   "cell_type": "markdown",
   "id": "f1908e93",
   "metadata": {},
   "source": [
    "# Project 1 - Large-scale Data Cleaning, Encoding, Exploration, and Predictive Modeling"
   ]
  },
  {
   "cell_type": "markdown",
   "id": "def77328",
   "metadata": {},
   "source": [
    "---"
   ]
  },
  {
   "cell_type": "markdown",
   "id": "c255f919-e2a3-46ec-95f1-cb6d87e78782",
   "metadata": {},
   "source": [
    "## Project Description"
   ]
  },
  {
   "cell_type": "markdown",
   "id": "00fa0043-e182-4612-b7d3-acc57d26ceff",
   "metadata": {},
   "source": [
    "In this project, you will work with the NYC Yellow Taxi Dataset. You will carry data cleaning, encoding, exploration, and predicitve models.\n",
    "\n",
    "The goal of this assignment include:\n",
    "\n",
    "1. Carry exploratory data analysis to gather knowledge from data\n",
    "2. Apply data visualization techniques\n",
    "3. Build transformation pipelines for data preprocessing and data cleaning\n",
    "4. Select machine learning algorithms for regression tasks\n",
    "5. Design pipelines for hyperparameter tuning and model selection\n",
    "6. Implement performance evaluation metrics and evaluate results\n",
    "7. Report observations, propose business-centric solutions and propose mitigating strategies\n",
    "\n",
    "This project is **due Friday, October 3 @ 11:59pm**. Late submissions will not be accepted, so please plan accordingly."
   ]
  },
  {
   "cell_type": "markdown",
   "id": "ee6f7854-302e-4f7f-9f06-23c1278df18b",
   "metadata": {},
   "source": [
    "## Deliverables"
   ]
  },
  {
   "cell_type": "markdown",
   "id": "8adebbed-fdca-4a2f-8bfe-710a2dc55e20",
   "metadata": {},
   "source": [
    "This is an **individual project**.\n",
    "\n",
    "You will produce the following deliverables to answer all questions below:\n",
    "\n",
    "1. [**4-page IEEE-format pape**](https://www.ieee.org/conferences/publishing/templates.html). Write a paper with no more than 4 pages addressing the questions below (use the template provided in [this link](https://www.ieee.org/conferences/publishing/templates.html)). When writing this report, consider a business-oriented person as your reader (e.g. the NYC yellow taxi driver company). Tell *the story* for the dataset' goal and propose solutions by addressing (at least) the questions below. You may organize the report per question.\n",
    "\n",
    "2. **Python Code**. Create two separate Notebooks: (1) \"training.ipynb\" used for training and hyperparameter tuning, (2) \"test.ipynb\" for evaluating the final trained model in the test set. The \"test.ipynb\" will mimic what the business consumer would use, i.e., they receive a set of trained objects and simply use them to make predictions on the dataset. They should NOT have to train or tune anything. Do not forget to **push the tuned objects** to your repository. We should be able to run your \"test.ipynb\" without having to run the \"training.ipynb\" file. Points will be deducted otherwise. All of your code should run without any errors and be well-documented. \n",
    "\n",
    "3. **README.md file**. Edit the readme.md file in your repository on how to use your code. If there are user-defined parameters, your readme.md file must clearly indicate so and demonstrate how to use your code."
   ]
  },
  {
   "cell_type": "markdown",
   "id": "4cb16f5e-0901-4452-b5f5-55029253fc00",
   "metadata": {},
   "source": [
    "## Reminders"
   ]
  },
  {
   "cell_type": "markdown",
   "id": "ed79fad2-6c29-4d34-bdb6-552b47d9760a",
   "metadata": {},
   "source": [
    "To save a tuned ````scikit-learn```` object, from your \"training.ipynb\" Notebook, run:\n",
    "\n",
    "````python\n",
    "import joblib\n",
    "joblib.dump(tuned_model_object, 'name_for_tuned_model_object.pkl');\n",
    "````\n",
    "\n",
    "In the \"test.ipynb\" Notebook, you can load this object with:\n",
    "````python\n",
    "import joblib\n",
    "loaded_model_name = joblib.load('name_for_tuned_model_object.pkl');\n",
    "````"
   ]
  },
  {
   "cell_type": "markdown",
   "id": "779394fe-4372-4056-8ab2-2220b1055fb2",
   "metadata": {},
   "source": [
    "---"
   ]
  },
  {
   "cell_type": "markdown",
   "id": "ea60c821",
   "metadata": {},
   "source": [
    "## About the Dataset"
   ]
  },
  {
   "cell_type": "markdown",
   "id": "fdde5859",
   "metadata": {},
   "source": [
    "### 2023 Yellow Taxi Trip Data\n",
    "\n",
    "These records are generated from the trip record submissions made by yellow taxi Technology Service Providers (TSPs). Each row represents a single trip in a yellow taxi. The trip records include fields capturing pick-up and drop-off dates/times, pick-up and drop-off taxi zone locations, trip distances, itemized fares, rate types, payment types, and driver-reported passenger counts. The data is available at [NYC Open Data](https://opendata.cityofnewyork.us/)."
   ]
  },
  {
   "cell_type": "markdown",
   "id": "29490485",
   "metadata": {},
   "source": [
    "Attributes Description\n",
    "\n",
    "- `vendor_id`: A code indicating the TPEP provider that provided the record.\n",
    "- `tpep_pickup_datetime`: The date and time when the meter was engaged.\n",
    "- `tpep_dropoff_datetime`: \t\n",
    "The date and time when the meter was disengaged.\n",
    "- `passenger_count`: The number of passengers in the vehicle.\n",
    "- `trip_distance`: \t\n",
    "The elapsed trip distance in miles reported by the taximeter.\n",
    "- `ratecodeid`: \t\n",
    "The final rate code in effect at the end of the trip.\n",
    "- `store_and_fwd_flag`: \t\n",
    "This flag indicates whether the trip record was held in vehicle memory before sending to the vendor, aka “store and forward,” because the vehicle did not have a connection to the server.\n",
    "- `pulocationid`: TLC Taxi Zone in which the taximeter was engaged.\n",
    "- `dolocationid`: \t\n",
    "TLC Taxi Zone in which the taximeter was disengaged.\n",
    "- `payment_type`: A numeric code signifying how the passenger paid for the trip.\n",
    "- `fare_amount`: \t\n",
    "The time-and-distance fare calculated by the meter. For additional information on the following columns, see https://www.nyc.gov/site/tlc/passengers/taxi-fare.page\n",
    "- `extra`: Miscellaneous extras and surcharges.\n",
    "- `mta_tax`: Tax that is automatically triggered based on the metered rate in use.\n",
    "- `tip_amount`: \t\n",
    "Tip amount – This field is automatically populated for credit card tips. Cash tips are not included.\n",
    "- `tolls_amount`: \t\n",
    "Total amount of all tolls paid in trip.\n",
    "- `improvement_surcharge`: Improvement surcharge assessed trips at the flag drop. The improvement surcharge began being levied in 2015.\n",
    "- `total_amount`: \t\n",
    "The total amount charged to passengers. Does not include cash tips.\n",
    "- `congestion_surcharge`: Total amount collected in trip for NYS congestion surcharge.\n",
    "- `airport_fee`: For pick up only at LaGuardia and John F. Kennedy Airports."
   ]
  },
  {
   "cell_type": "markdown",
   "id": "c75b6c73",
   "metadata": {},
   "source": [
    "---"
   ]
  },
  {
   "cell_type": "markdown",
   "id": "d137e6cd",
   "metadata": {},
   "source": [
    "## Exercise 1 - Prepare the Data"
   ]
  },
  {
   "cell_type": "markdown",
   "id": "a44a4949-7f5a-4610-869a-42e775067341",
   "metadata": {},
   "source": [
    "Apply the necessary data preprocessing using ```scikit-learn``` pipelines. Justify all choices. Use the prepared data to answer exercises (2) and (3). The only requirements regarding attribute encoding are:\n",
    "\n",
    "1. Encode the attribute ```Date``` with its respective day of the week (Monday, Tuesday, Wednesday, Thursday, Friday, Saturday and Sunday).\n",
    "2. Encode the attribute ```Time``` into 4 categories: Morning (10:00 - 11:59), Afternoon (12:00 - 16:59), Evening (17:00 - 18:59) and Night (19:00 - 20:59).\n",
    "3. Create a new feature - \"pre_tip_total_amount\" as the sum of attributes ````fare_amount````, ````extra````, ````mta_tax````, ````tolls_amount````, ````improvement_surcharge````, ````congestion_surcharge````, and ````airport_fee````."
   ]
  },
  {
   "cell_type": "markdown",
   "id": "c2c6cc4e-3d87-453c-ad16-a4087e892fee",
   "metadata": {},
   "source": [
    "## Exercise 2 - Exploratory Data Analysis"
   ]
  },
  {
   "cell_type": "markdown",
   "id": "41f1f9e1-56b2-4fc0-8896-d413c3e3bcf6",
   "metadata": {},
   "source": [
    "In this exercise carry exploratory data analysis to understand the data, including:\n",
    "\n",
    "1. Pearson's correlation coefficient. In exercise 2 and 3, you will predict attributes ````tip_amount```` and ````fare_amount````.\n",
    "2. Which pickup location bring the most tips? (Don't forget to normalize by number of fares.)\n",
    "3. How are the tip distribution affect as a function of time of the day? Day of the week? Time of the day **AND** day of the week? (e.g. Friday night, Monday morning, etc.)"
   ]
  },
  {
   "cell_type": "markdown",
   "id": "62eb8401",
   "metadata": {},
   "source": [
    "## Exercise 3 - Predictive Modeling"
   ]
  },
  {
   "cell_type": "markdown",
   "id": "c719fcdf-89a7-48a9-a92b-90610856449d",
   "metadata": {},
   "source": [
    "For this exercise, consider the coefficient of determination, $r^2$, as one of your metrics of success and report its 95% confidence interval or CI (on the validation set). Carry any necessary hyperparameter tuning with pipelines. Choose the best CV strategy and report on the best hyperparameter settings.\n",
    "\n",
    "Train a multiple linear regression **with and without** **Lasso** regularization to **predict ```tip_amount```**. Using the tuned models for each case, answer the following questions:\n",
    "\n",
    "1. For each model: how is the ````tip_amount```` attribute affected by trip distance, passenger count, pre-tip total amount, other fees, and other variables like pickup day, time slot & location, and vendor of the TPEP provider? That is, how much do each one of these attributes contribute to predicting ````tip_amount````? (Answer this question from the perspective of a taxi driver. What you would you tell the taxi drive to Where and when should they work in order to maximize profit from tips?)\n",
    "\n",
    "2.  When using Lasso regularizer, which value for the hyperparameter $\\lambda$ best works for this dataset? Based on the CI for each model, which performs best? Justify your answer.\n",
    "\n",
    "3. Which features were excluded in the model with a Lasso regularizer, if any? "
   ]
  },
  {
   "cell_type": "markdown",
   "id": "6ffa1448-2daf-4c8d-b46f-e505d94ab68f",
   "metadata": {},
   "source": [
    "## Exercise 4 - Predictive Modeling"
   ]
  },
  {
   "cell_type": "markdown",
   "id": "c70b94f1-4158-42c1-a5c8-dd56f7e9c07f",
   "metadata": {},
   "source": [
    "For this exercise, consider the coefficient of determination, $r^2$, as one of your metrics of success and report its 95% confidence interval (CI). Carry any necessary hyperparameter tuning with pipelines. Choose the best CV strategy and report on the best hyperparameter settings.\n",
    "\n",
    "Train a multiple linear regression **with and without Lasso** regularization to **predict ```fare_amount```**.\n",
    "\n",
    "1. For each model: how is the ````fare_amount```` attribute affected by trip distance, passenger count, other fees, and other variables like pickup day, time slot & location, and vendor of the TPEP provider? That is, how much do each one of these attributes contribute to predicting ````tip_amount````? (Answer this question from the perspective of a taxi driver. What you would you tell the taxi drive to Where and when should they work in order to maximize profit from tips?)\n",
    "\n",
    "2.  When using Lasso regularizer, which value for the hyperparameter $\\lambda$ best works for this dataset? Based on the CI for each model, which performs best? Justify your answer.\n",
    "\n",
    "3. Which features were excluded in the model with a Lasso regularizer, if any? "
   ]
  },
  {
   "cell_type": "markdown",
   "id": "5ce5fc86",
   "metadata": {},
   "source": [
    "---"
   ]
  }
 ],
 "metadata": {
  "kernelspec": {
   "display_name": "Python 3 (ipykernel)",
   "language": "python",
   "name": "python3"
  },
  "language_info": {
   "codemirror_mode": {
    "name": "ipython",
    "version": 3
   },
   "file_extension": ".py",
   "mimetype": "text/x-python",
   "name": "python",
   "nbconvert_exporter": "python",
   "pygments_lexer": "ipython3",
   "version": "3.12.4"
  }
 },
 "nbformat": 4,
 "nbformat_minor": 5
}
